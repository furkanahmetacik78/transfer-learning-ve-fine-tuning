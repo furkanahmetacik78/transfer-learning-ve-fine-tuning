{
  "nbformat": 4,
  "nbformat_minor": 0,
  "metadata": {
    "colab": {
      "provenance": [],
      "gpuType": "T4"
    },
    "kernelspec": {
      "name": "python3",
      "display_name": "Python 3"
    },
    "language_info": {
      "name": "python"
    },
    "accelerator": "GPU"
  },
  "cells": [
    {
      "cell_type": "code",
      "execution_count": 1,
      "metadata": {
        "colab": {
          "base_uri": "https://localhost:8080/"
        },
        "id": "WKmUHuBzEOL_",
        "outputId": "e1b8a71b-56c6-422c-96d9-b3a901279fb8"
      },
      "outputs": [
        {
          "output_type": "stream",
          "name": "stdout",
          "text": [
            "Mounted at /content/drive\n"
          ]
        }
      ],
      "source": [
        "from google.colab import drive\n",
        "drive.mount('/content/drive')"
      ]
    },
    {
      "cell_type": "code",
      "source": [
        "import tensorflow as tf\n",
        "from tensorflow import keras\n",
        "from keras.preprocessing.image import ImageDataGenerator,img_to_array,load_img\n",
        "from keras.models import Sequential\n",
        "from keras.layers import Dense\n",
        "import matplotlib.pyplot as plt\n",
        "from glob import glob"
      ],
      "metadata": {
        "id": "_PBKAO4PFB67"
      },
      "execution_count": 2,
      "outputs": []
    },
    {
      "cell_type": "code",
      "source": [
        "train_path = \"/content/drive/MyDrive/Colab Notebooks/bitirme/train\"\n",
        "test_path = \"/content/drive/MyDrive/Colab Notebooks/bitirme/test\""
      ],
      "metadata": {
        "id": "n9mJ9JQLFEAT"
      },
      "execution_count": 3,
      "outputs": []
    },
    {
      "cell_type": "code",
      "source": [
        "from tensorflow.keras.preprocessing.image import ImageDataGenerator\n",
        "\n",
        "IMAGE_SHAPE = (224, 224)\n",
        "BATCH_SIZE = 32\n",
        "\n",
        "train_dir = \"/content/drive/MyDrive/Colab Notebooks/bitirme/train\"\n",
        "test_dir = \"/content/drive/MyDrive/Colab Notebooks/bitirme/test\"\n",
        "\n",
        "train_datagen = ImageDataGenerator(rescale=1/255.)\n",
        "test_datagen = ImageDataGenerator(rescale=1/255.)\n",
        "\n",
        "print(\"Training resimleri:\")\n",
        "train_data = train_datagen.flow_from_directory(train_dir,\n",
        "                                               target_size=IMAGE_SHAPE,\n",
        "                                               batch_size=BATCH_SIZE,\n",
        "                                               class_mode=\"categorical\")\n",
        "\n",
        "print(\"Testing resimleri:\")\n",
        "test_data = train_datagen.flow_from_directory(test_dir,\n",
        "                                              target_size=IMAGE_SHAPE,\n",
        "                                              batch_size=BATCH_SIZE,\n",
        "                                              class_mode=\"categorical\")"
      ],
      "metadata": {
        "colab": {
          "base_uri": "https://localhost:8080/"
        },
        "id": "09EOZO8_FEDR",
        "outputId": "02cbbcab-5184-4eb8-ca06-5a3f7e0be37a"
      },
      "execution_count": 4,
      "outputs": [
        {
          "output_type": "stream",
          "name": "stdout",
          "text": [
            "Training resimleri:\n",
            "Found 2380 images belonging to 29 classes.\n",
            "Testing resimleri:\n",
            "Found 594 images belonging to 29 classes.\n"
          ]
        }
      ]
    },
    {
      "cell_type": "code",
      "source": [
        "# Tensorboard callback işlevini oluşturma\n",
        "import datetime\n",
        "def create_tensorboard_callback(dir_name, experiment_name):\n",
        "  log_dir = dir_name + \"/\" + experiment_name + \"/\" + datetime.datetime.now().strftime(\"%Y%m%d-%H%M%S\")\n",
        "  tensorboard_callback = tf.keras.callbacks.TensorBoard(\n",
        "      log_dir=log_dir\n",
        "  )\n",
        "  print(f\"TensorBoard günlük dosyalarını kaydetme: {log_dir}\")\n",
        "  return tensorboard_callback\n"
      ],
      "metadata": {
        "id": "hG7y6d8GFEGJ"
      },
      "execution_count": 5,
      "outputs": []
    },
    {
      "cell_type": "code",
      "source": [
        "\n",
        "import tensorflow as tf\n",
        "import tensorflow_hub as hub\n",
        "from tensorflow.keras import layers"
      ],
      "metadata": {
        "id": "qNt0hQTyFgpS"
      },
      "execution_count": 6,
      "outputs": []
    },
    {
      "cell_type": "code",
      "source": [
        "# Resnet 50 V2 özellik vektörü\n",
        "resnet_url = \"https://tfhub.dev/google/imagenet/resnet_v2_50/feature_vector/4\"\n",
        "# EfficientNet0 özellik vektörü\n",
        "efficientnet_url = \"https://tfhub.dev/tensorflow/efficientnet/b0/feature-vector/1\""
      ],
      "metadata": {
        "id": "JQ9ULgxeFEIb"
      },
      "execution_count": 7,
      "outputs": []
    },
    {
      "cell_type": "code",
      "source": [
        "def create_model(model_url, num_classes=29):\n",
        "\n",
        "  # Önceden eğitilmiş modeli indirin ve Keras katmanı olarak kaydedin\n",
        "  feature_extractor_layer = hub.KerasLayer(model_url,\n",
        "                                           trainable=False, # temel kalıpları dondur\n",
        "                                           name='feature_extraction_layer',\n",
        "                                           input_shape=IMAGE_SHAPE+(3,)) # giriş görüntü şeklini tanımla\n",
        "\n",
        "  # Kendi modelimizi oluşturun\n",
        "  model = tf.keras.Sequential([\n",
        "    feature_extractor_layer, # özellik çıkarma katmanını temel olarak kullanın\n",
        "    layers.Dense(num_classes, activation='softmax', name='output_layer') # kendi çıktı katmanımızı yarat\n",
        "  ])\n",
        "\n",
        "  return model"
      ],
      "metadata": {
        "id": "sNxG3HD9Fp19"
      },
      "execution_count": 8,
      "outputs": []
    },
    {
      "cell_type": "code",
      "source": [
        "resnet_model = create_model(resnet_url, num_classes=train_data.num_classes)\n",
        "\n",
        "# Derleme\n",
        "resnet_model.compile(loss='categorical_crossentropy',\n",
        "                     optimizer=tf.keras.optimizers.Adam(),\n",
        "                     metrics=['accuracy'])"
      ],
      "metadata": {
        "id": "IhiUvEuJFwoH"
      },
      "execution_count": 9,
      "outputs": []
    },
    {
      "cell_type": "code",
      "source": [
        "resnet_history = resnet_model.fit(train_data,\n",
        "                   epochs=5,\n",
        "                   steps_per_epoch=len(train_data),\n",
        "                   validation_data=test_data,\n",
        "                   validation_steps=len(test_data),\n",
        "                   callbacks=[\n",
        "                        create_tensorboard_callback(\n",
        "                            # buraya kaydet\n",
        "                            dir_name=\"tensorflow_hub\",\n",
        "                            # log dosyalarının adı\n",
        "                            experiment_name=\"resnet50V2\")])"
      ],
      "metadata": {
        "colab": {
          "base_uri": "https://localhost:8080/"
        },
        "id": "C1ROsWzTF3HP",
        "outputId": "c1cd5f83-a717-4056-da88-dd64a08cc07b"
      },
      "execution_count": 10,
      "outputs": [
        {
          "output_type": "stream",
          "name": "stdout",
          "text": [
            "TensorBoard günlük dosyalarını kaydetme: tensorflow_hub/resnet50V2/20240514-221438\n",
            "Epoch 1/5\n",
            "75/75 [==============================] - 1557s 21s/step - loss: 2.0840 - accuracy: 0.4542 - val_loss: 1.1199 - val_accuracy: 0.7323\n",
            "Epoch 2/5\n",
            "75/75 [==============================] - 18s 245ms/step - loss: 0.6278 - accuracy: 0.8987 - val_loss: 0.6140 - val_accuracy: 0.8805\n",
            "Epoch 3/5\n",
            "75/75 [==============================] - 19s 251ms/step - loss: 0.3203 - accuracy: 0.9655 - val_loss: 0.4063 - val_accuracy: 0.9394\n",
            "Epoch 4/5\n",
            "75/75 [==============================] - 19s 252ms/step - loss: 0.2008 - accuracy: 0.9807 - val_loss: 0.3189 - val_accuracy: 0.9478\n",
            "Epoch 5/5\n",
            "75/75 [==============================] - 19s 255ms/step - loss: 0.1404 - accuracy: 0.9895 - val_loss: 0.2692 - val_accuracy: 0.9562\n"
          ]
        }
      ]
    },
    {
      "cell_type": "code",
      "source": [
        "import matplotlib.pyplot as plt\n",
        "\n",
        "def plot_loss_curves(history):\n",
        "  loss = history.history['loss']\n",
        "  val_loss = history.history['val_loss']\n",
        "\n",
        "  accuracy = history.history['accuracy']\n",
        "  val_accuracy = history.history['val_accuracy']\n",
        "\n",
        "  epochs = range(len(history.history['loss']))\n",
        "\n",
        "  plt.plot(epochs, loss, label='training_loss')\n",
        "  plt.plot(epochs, val_loss, label='val_loss')\n",
        "  plt.title('Loss')\n",
        "  plt.xlabel('Epochs')\n",
        "  plt.legend()\n",
        "\n",
        "  plt.figure()\n",
        "  plt.plot(epochs, accuracy, label='training_accuracy')\n",
        "  plt.plot(epochs, val_accuracy, label='val_accuracy')\n",
        "  plt.title('Accuracy')\n",
        "  plt.xlabel('Epochs')\n",
        "  plt.legend();"
      ],
      "metadata": {
        "id": "VzpIXjS7GZ_K"
      },
      "execution_count": 11,
      "outputs": []
    },
    {
      "cell_type": "code",
      "source": [
        "efficientnet_model = create_model(model_url=efficientnet_url,\n",
        "                                  num_classes=train_data.num_classes)\n",
        "\n",
        "efficientnet_model.compile(loss='categorical_crossentropy',\n",
        "                           optimizer=tf.keras.optimizers.Adam(),\n",
        "                           metrics=['accuracy'])\n"
      ],
      "metadata": {
        "id": "WfLSW0KIGk17"
      },
      "execution_count": 12,
      "outputs": []
    },
    {
      "cell_type": "code",
      "source": [
        "efficientnet_history = efficientnet_model.fit(train_data,\n",
        "                                              epochs=5,\n",
        "                                              steps_per_epoch=len(train_data),\n",
        "                                              validation_data=test_data,\n",
        "                                              validation_steps=len(test_data),\n",
        "                                              callbacks=[create_tensorboard_callback(dir_name=\"tensorflow_hub\",\n",
        "                                                                                     experiment_name=\"efficientnetB0\")])"
      ],
      "metadata": {
        "id": "B3H_Ku97kP0r",
        "colab": {
          "base_uri": "https://localhost:8080/"
        },
        "outputId": "a6d070f8-7e39-4a40-8d7a-baa3c4fcf327"
      },
      "execution_count": 13,
      "outputs": [
        {
          "output_type": "stream",
          "name": "stdout",
          "text": [
            "TensorBoard günlük dosyalarını kaydetme: tensorflow_hub/efficientnetB0/20240514-224249\n",
            "Epoch 1/5\n",
            "75/75 [==============================] - 34s 308ms/step - loss: 2.6034 - accuracy: 0.3958 - val_loss: 1.9210 - val_accuracy: 0.6330\n",
            "Epoch 2/5\n",
            "75/75 [==============================] - 19s 249ms/step - loss: 1.3910 - accuracy: 0.8366 - val_loss: 1.2263 - val_accuracy: 0.8333\n",
            "Epoch 3/5\n",
            "75/75 [==============================] - 19s 256ms/step - loss: 0.8613 - accuracy: 0.9282 - val_loss: 0.8920 - val_accuracy: 0.8805\n",
            "Epoch 4/5\n",
            "75/75 [==============================] - 18s 244ms/step - loss: 0.5905 - accuracy: 0.9618 - val_loss: 0.6808 - val_accuracy: 0.8923\n",
            "Epoch 5/5\n",
            "75/75 [==============================] - 20s 268ms/step - loss: 0.4404 - accuracy: 0.9681 - val_loss: 0.5504 - val_accuracy: 0.9209\n"
          ]
        }
      ]
    },
    {
      "cell_type": "code",
      "source": [
        "plot_loss_curves(efficientnet_history)"
      ],
      "metadata": {
        "id": "gPTWYAMeGryJ",
        "colab": {
          "base_uri": "https://localhost:8080/",
          "height": 927
        },
        "outputId": "ba8330d4-3221-480d-fb41-597dee7097e8"
      },
      "execution_count": 14,
      "outputs": [
        {
          "output_type": "display_data",
          "data": {
            "text/plain": [
              "<Figure size 640x480 with 1 Axes>"
            ],
            "image/png": "[encoded data removed]"
          },
          "metadata": {}
        },
        {
          "output_type": "display_data",
          "data": {
            "text/plain": [
              "<Figure size 640x480 with 1 Axes>"
            ],
            "image/png": "[encoded data removed]"
          },
          "metadata": {}
        }
      ]
    },
    {
      "cell_type": "code",
      "source": [
        "fine_model = resnet_model"
      ],
      "metadata": {
        "id": "bRcqCQmZjFIH"
      },
      "execution_count": 15,
      "outputs": []
    },
    {
      "cell_type": "code",
      "source": [
        "\n",
        "fine_model.trainable = True\n",
        "\n",
        "for layer in fine_model.layers[:-10]:\n",
        "  layer.trainable = False\n",
        "\n",
        "fine_model.compile(loss=\"categorical_crossentropy\",\n",
        "                optimizer=tf.keras.optimizers.Adam(),\n",
        "                metrics=[\"accuracy\"])\n"
      ],
      "metadata": {
        "id": "2OdDxYmCiuS-"
      },
      "execution_count": 16,
      "outputs": []
    },
    {
      "cell_type": "code",
      "source": [
        "fine_tune_epochs = 10\n",
        "\n",
        "\n",
        "history_fine = fine_model.fit(train_data,\n",
        "                epochs=fine_tune_epochs,\n",
        "                validation_data=test_data,\n",
        "                validation_steps=int(0.25 * len(test_data)),\n",
        "                callbacks=[create_tensorboard_callback(dir_name=\"transfer_learning\",\n",
        "                 experiment_name=\"fine_tune_last_10\")])\n"
      ],
      "metadata": {
        "colab": {
          "base_uri": "https://localhost:8080/"
        },
        "id": "QoJdWBmUkcX9",
        "outputId": "6f10bead-c3b8-4de6-c175-0d0d9107c3d8"
      },
      "execution_count": 17,
      "outputs": [
        {
          "output_type": "stream",
          "name": "stdout",
          "text": [
            "TensorBoard günlük dosyalarını kaydetme: transfer_learning/fine_tune_last_10/20240514-224459\n",
            "Epoch 1/10\n",
            "75/75 [==============================] - 60s 370ms/step - loss: 0.9731 - accuracy: 0.8008 - val_loss: 7.3033 - val_accuracy: 0.2578\n",
            "Epoch 2/10\n",
            "75/75 [==============================] - 24s 323ms/step - loss: 0.4958 - accuracy: 0.9399 - val_loss: 1.8062 - val_accuracy: 0.6719\n",
            "Epoch 3/10\n",
            "75/75 [==============================] - 24s 317ms/step - loss: 0.4139 - accuracy: 0.9706 - val_loss: 0.5077 - val_accuracy: 0.9453\n",
            "Epoch 4/10\n",
            "75/75 [==============================] - 24s 313ms/step - loss: 0.4537 - accuracy: 0.9630 - val_loss: 2.1567 - val_accuracy: 0.6641\n",
            "Epoch 5/10\n",
            "75/75 [==============================] - 25s 334ms/step - loss: 0.4278 - accuracy: 0.9723 - val_loss: 0.7423 - val_accuracy: 0.9062\n",
            "Epoch 6/10\n",
            "75/75 [==============================] - 24s 321ms/step - loss: 0.4810 - accuracy: 0.9618 - val_loss: 2.5671 - val_accuracy: 0.6172\n",
            "Epoch 7/10\n",
            "75/75 [==============================] - 25s 327ms/step - loss: 0.4495 - accuracy: 0.9718 - val_loss: 0.7631 - val_accuracy: 0.9219\n",
            "Epoch 8/10\n",
            "75/75 [==============================] - 24s 317ms/step - loss: 0.4788 - accuracy: 0.9672 - val_loss: 1.2649 - val_accuracy: 0.7734\n",
            "Epoch 9/10\n",
            "75/75 [==============================] - 24s 322ms/step - loss: 0.4042 - accuracy: 0.9924 - val_loss: 0.4377 - val_accuracy: 0.9844\n",
            "Epoch 10/10\n",
            "75/75 [==============================] - 24s 318ms/step - loss: 0.3874 - accuracy: 0.9958 - val_loss: 0.5205 - val_accuracy: 0.9375\n"
          ]
        }
      ]
    }
  ]
}